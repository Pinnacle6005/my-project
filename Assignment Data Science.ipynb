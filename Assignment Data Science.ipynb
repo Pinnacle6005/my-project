{
 "cells": [
  {
   "cell_type": "code",
   "execution_count": 2,
   "metadata": {},
   "outputs": [
    {
     "name": "stdout",
     "output_type": "stream",
     "text": [
      "[2, 6, 9, 9, 15, 19]\n"
     ]
    }
   ],
   "source": [
    "#1. Write a program using the following list and sort it based on the sum of the values of the tuples of the \n",
    "numb = [(1,5),(9,0),(12,3),(5,4),(13,6),(1,1)]\n",
    "sum_numb = [x+y for x,y in numb]\n",
    "for i in numb:\n",
    "    sum_numb.sort()\n",
    "print(sum_numb)"
   ]
  },
  {
   "cell_type": "code",
   "execution_count": null,
   "metadata": {},
   "outputs": [],
   "source": [
    "#2. Given number 1 through 10, write a program to display \"Even\" for even numbers and \"Odd\" for odd numbers.\n",
    "intg = [1,2,3,4,5,6,7,8,9,10]\n",
    "num = int(input(\"Enter a number: \"))\n",
    "for i in intg:\n",
    "    if (num%2)==0:\n",
    "        print(\"{0} is even number\".format(num))\n",
    "    else:\n",
    "        print(\"{0} is odd number\".format(num))"
   ]
  },
  {
   "cell_type": "code",
   "execution_count": 1,
   "metadata": {},
   "outputs": [
    {
     "data": {
      "text/plain": [
       "4"
      ]
     },
     "execution_count": 1,
     "metadata": {},
     "output_type": "execute_result"
    }
   ],
   "source": [
    "#3. Write a Python program to count the number of strings where the string length is 2 or more and the first and last character are same from a given list of strings.\n",
    "\n",
    "list2=['abc', 'xyz', 'aba', '1221', 'bhgsskknb', 'aa']\n",
    "count_strg=[]\n",
    "for i in list2:\n",
    "    if len (i)>= 2 and i[0]==i[-1]:\n",
    "        count_strg.append(i)\n",
    "len(count_strg)"
   ]
  },
  {
   "cell_type": "code",
   "execution_count": 2,
   "metadata": {},
   "outputs": [
    {
     "name": "stdout",
     "output_type": "stream",
     "text": [
      "[4, 16, 36, 64, 100]\n"
     ]
    }
   ],
   "source": [
    "#4. Given a list of 1 through 10, write a program to display the square root of the even numbers\n",
    "lists = range (1,11)\n",
    "square = []\n",
    "for i in lists:\n",
    "    if i%2==0:\n",
    "        square.append(i**2)\n",
    "print(square)\n"
   ]
  },
  {
   "cell_type": "code",
   "execution_count": 35,
   "metadata": {},
   "outputs": [
    {
     "name": "stdout",
     "output_type": "stream",
     "text": [
      "{1: 'a', 2: 'b', 3: 'c', 4: 'd', 5: 'e'}\n"
     ]
    }
   ],
   "source": [
    "#5. write a program such that 𝑙𝑖𝑠𝑡1 will act as keys while 𝑙𝑖𝑠𝑡2 will act as the values of the dictionary: \n",
    "list1 = [1, 2, 3, 4, 5] \n",
    "list2 = [\"a\", \"b\", \"c\",\"d\", \"e\"]\n",
    "list_dictionary = dict (zip(list1,list2))\n",
    "print(list_dictionary)"
   ]
  }
 ],
 "metadata": {
  "kernelspec": {
   "display_name": "Python 3",
   "language": "python",
   "name": "python3"
  },
  "language_info": {
   "codemirror_mode": {
    "name": "ipython",
    "version": 3
   },
   "file_extension": ".py",
   "mimetype": "text/x-python",
   "name": "python",
   "nbconvert_exporter": "python",
   "pygments_lexer": "ipython3",
   "version": "3.8.5"
  }
 },
 "nbformat": 4,
 "nbformat_minor": 4
}
